{
 "cells": [
  {
   "cell_type": "code",
   "execution_count": 3,
   "id": "f29c35a2",
   "metadata": {},
   "outputs": [],
   "source": [
    "\n",
    "import mysql.connector as connector\n",
    "\n",
    "# Establish connection to the database\n",
    "connection = connector.connect(\n",
    "    user=\"ll_admin\",\n",
    "    password=\"L1ttl3L3m0n!2023\",\n",
    "    db=\"LittleLemonDB\"\n",
    ")\n",
    "\n",
    "# Create a cursor object to interact with the database\n",
    "cursor = connection.cursor()"
   ]
  },
  {
   "cell_type": "code",
   "execution_count": 4,
   "id": "ab4d1c0f",
   "metadata": {},
   "outputs": [
    {
     "name": "stdout",
     "output_type": "stream",
     "text": [
      "Tables in the Little Lemon database:\n",
      "Bookings\n",
      "Customers\n",
      "MenuItems\n",
      "Menus\n",
      "OrderDeliveryStatus\n",
      "Orders\n",
      "ordersview\n",
      "StaffInformation\n"
     ]
    }
   ],
   "source": [
    "# Query to show all tables in the database\n",
    "show_tables_query = \"SHOW TABLES\"\n",
    "\n",
    "# Execute the query\n",
    "cursor.execute(show_tables_query)\n",
    "\n",
    "# Fetch all results\n",
    "results = cursor.fetchall()\n",
    "\n",
    "# Print the tables\n",
    "print(\"Tables in the Little Lemon database:\")\n",
    "for table in results:\n",
    "    print(table[0])"
   ]
  },
  {
   "cell_type": "code",
   "execution_count": 12,
   "id": "1c3c6c06",
   "metadata": {},
   "outputs": [
    {
     "name": "stdout",
     "output_type": "stream",
     "text": [
      "\n",
      "No customers found with orders > $60\n"
     ]
    }
   ],
   "source": [
    "import mysql.connector as connector\n",
    "\n",
    "# Establish connection\n",
    "try:\n",
    "    connection = connector.connect(\n",
    "        user=\"ll_admin\",\n",
    "        password=\"L1ttl3L3m0n!2023\",\n",
    "        db=\"LittleLemonDB\"\n",
    "    )\n",
    "    cursor = connection.cursor()\n",
    "    \n",
    "     # Correct query using your actual column names\n",
    "    promo_query = \"\"\"\n",
    "    SELECT \n",
    "        c.FullName,\n",
    "        c.Email, \n",
    "        c.ContactNumber AS Phone,\n",
    "        o.TotalCost\n",
    "    FROM \n",
    "        Customers c\n",
    "    INNER JOIN \n",
    "        Orders o ON c.CustomerID = o.CustomerID\n",
    "    WHERE \n",
    "        o.TotalCost > 60\n",
    "    ORDER BY \n",
    "        o.TotalCost DESC\n",
    "    \"\"\"\n",
    "    \n",
    "    # Execute the query\n",
    "    cursor.execute(promo_query)\n",
    "    promo_results = cursor.fetchall()\n",
    "    \n",
    "    # Print results\n",
    "    if promo_results:\n",
    "        print(\"\\nCustomers for promotional campaign (orders > $60):\")\n",
    "        print(\"{:<30} {:<30} {:<20} {:<10}\".format(\"Name\", \"Email\", \"Phone\", \"Total\"))\n",
    "        print(\"-\" * 90)\n",
    "        for customer in promo_results:\n",
    "            print(\"{:<30} {:<30} {:<20} ${:<10.2f}\".format(\n",
    "                customer[0], customer[1], customer[2], customer[3]\n",
    "            ))\n",
    "    else:\n",
    "        print(\"\\nNo customers found with orders > $60\")\n",
    "        \n",
    "except Exception as e:\n",
    "    print(f\"Error: {e}\")\n",
    "finally:\n",
    "    if 'cursor' in locals():\n",
    "        cursor.close()\n",
    "    if 'connection' in locals():\n",
    "        connection.close()"
   ]
  }
 ],
 "metadata": {
  "kernelspec": {
   "display_name": "base",
   "language": "python",
   "name": "python3"
  },
  "language_info": {
   "codemirror_mode": {
    "name": "ipython",
    "version": 3
   },
   "file_extension": ".py",
   "mimetype": "text/x-python",
   "name": "python",
   "nbconvert_exporter": "python",
   "pygments_lexer": "ipython3",
   "version": "3.12.2"
  }
 },
 "nbformat": 4,
 "nbformat_minor": 5
}
